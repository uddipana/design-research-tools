{
 "cells": [
  {
   "cell_type": "markdown",
   "metadata": {},
   "source": [
    "## For Editing"
   ]
  },
  {
   "cell_type": "code",
   "execution_count": 1,
   "metadata": {},
   "outputs": [],
   "source": [
    "input_file = 'ANALYSIS - MobileCADCardSortPS_raw_data_2023-12-02_01_00_17_filtered.xlsx'\n",
    "\n",
    "# change output_file otherwise existing file will be overwritten\n",
    "output_file = 'processed.xlsx'\n",
    "\n",
    "cards_for_analysis = ['Verified.Me', 'Two-Step Verification', 'Biometrics']"
   ]
  },
  {
   "cell_type": "markdown",
   "metadata": {},
   "source": [
    "## For Editing - Ends"
   ]
  },
  {
   "cell_type": "code",
   "execution_count": null,
   "metadata": {},
   "outputs": [],
   "source": [
    "pip install pandas openpyxl -q"
   ]
  },
  {
   "cell_type": "code",
   "execution_count": 2,
   "metadata": {},
   "outputs": [
    {
     "name": "stdout",
     "output_type": "stream",
     "text": [
      "processed.xlsx has been written.\n"
     ]
    }
   ],
   "source": [
    "from card_sort_helper_utils import process, print_list_of_available_card_labels\n",
    "process(input_file, output_file, cards_for_analysis)"
   ]
  },
  {
   "cell_type": "code",
   "execution_count": 4,
   "metadata": {},
   "outputs": [],
   "source": [
    "# optional: to view list of available card labels that can be chosen for cards_for_analysis\n",
    "# print_list_of_available_card_labels(input_file)"
   ]
  }
 ],
 "metadata": {
  "kernelspec": {
   "display_name": "td-exp",
   "language": "python",
   "name": "python3"
  },
  "language_info": {
   "codemirror_mode": {
    "name": "ipython",
    "version": 3
   },
   "file_extension": ".py",
   "mimetype": "text/x-python",
   "name": "python",
   "nbconvert_exporter": "python",
   "pygments_lexer": "ipython3",
   "version": "3.10.13"
  }
 },
 "nbformat": 4,
 "nbformat_minor": 2
}
